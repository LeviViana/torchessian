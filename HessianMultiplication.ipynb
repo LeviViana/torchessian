{
 "cells": [
  {
   "cell_type": "code",
   "execution_count": 1,
   "metadata": {},
   "outputs": [],
   "source": [
    "import torch\n",
    "from copy import deepcopy"
   ]
  },
  {
   "cell_type": "code",
   "execution_count": 2,
   "metadata": {},
   "outputs": [],
   "source": [
    "def hessian_matmul(model, loss_function, v, batch):\n",
    "    \n",
    "    model.zero_grad()\n",
    "    \n",
    "    x, y = batch\n",
    "    E = loss_function(model(x), y)\n",
    "    v.requires_grad = False\n",
    "    grad_result = torch.autograd.grad(E, model.parameters(), create_graph=True)\n",
    "    grad_result = torch.cat(tuple(p.view(1, -1) for p in grad_result), 1)\n",
    "    grad_result.backward(v.view(1, -1))\n",
    "\n",
    "    result = torch.cat(tuple(p.grad.view(1, -1) for p in model.parameters()), 1)\n",
    "    \n",
    "    model.zero_grad()\n",
    "    \n",
    "    return result"
   ]
  },
  {
   "cell_type": "code",
   "execution_count": 3,
   "metadata": {},
   "outputs": [],
   "source": [
    "model = torch.nn.Linear(2, 1)\n",
    "torch.manual_seed(2019)\n",
    "v = torch.Tensor([1, 2, 3])\n",
    "x = torch.rand(10, 2)\n",
    "y = x.sum(1)\n",
    "def loss_function(y_hat, y):\n",
    "    return ((y_hat.view(-1) - y.view(-1)) * (y_hat.view(-1) - y.view(-1))).sum() / y.numel()\n",
    "batch = x, y"
   ]
  },
  {
   "cell_type": "code",
   "execution_count": 4,
   "metadata": {},
   "outputs": [
    {
     "data": {
      "text/plain": [
       "tensor([[4.7984, 4.1026, 8.8368]])"
      ]
     },
     "execution_count": 4,
     "metadata": {},
     "output_type": "execute_result"
    }
   ],
   "source": [
    "hessian_matmul(model, loss_function, v, batch)"
   ]
  },
  {
   "cell_type": "code",
   "execution_count": 6,
   "metadata": {},
   "outputs": [],
   "source": [
    "class SampleNN(torch.nn.Module):\n",
    "    def __init__(self, input_size):\n",
    "        super(SampleNN, self).__init__()\n",
    "        self.fc1 = torch.nn.Linear(input_size, 64)\n",
    "        self.conv = torch.nn.Conv2d(1, 1, 3, stride=1, padding=1)\n",
    "        self.fc2 = torch.nn.Linear(64, 1)\n",
    "    \n",
    "    def forward(self, x):\n",
    "        x = self.fc1(x)\n",
    "        x = x.view(-1, 1, 8, 8)\n",
    "        x = self.conv(x)\n",
    "        x = x.view(-1, 64)\n",
    "        x = self.fc2(x)\n",
    "        return x\n",
    "\n",
    "input_size = 10\n",
    "model = SampleNN(input_size)\n",
    "torch.manual_seed(2019)\n",
    "x = torch.rand(100, input_size)\n",
    "y = x.sum(1)\n",
    "def loss_function(y_hat, y):\n",
    "    return ((y_hat.view(-1) - y.view(-1)) * (y_hat.view(-1) - y.view(-1))).sum() / y.numel()\n",
    "batch = x, y"
   ]
  },
  {
   "cell_type": "code",
   "execution_count": 7,
   "metadata": {},
   "outputs": [
    {
     "data": {
      "text/plain": [
       "torch.Size([1, 779])"
      ]
     },
     "execution_count": 7,
     "metadata": {},
     "output_type": "execute_result"
    }
   ],
   "source": [
    "v = torch.rand(sum(p.data.numel() for p in model.parameters()))\n",
    "\n",
    "Hv = hessian_matmul(model, loss_function, v, batch)\n",
    "Hv.size()"
   ]
  },
  {
   "cell_type": "code",
   "execution_count": 8,
   "metadata": {},
   "outputs": [],
   "source": [
    "from torchvision.models import resnet18\n",
    "\n",
    "model = resnet18(pretrained=False)\n",
    "torch.manual_seed(2019)\n",
    "x = torch.rand(16, 3, 224, 244)\n",
    "y = torch.randint(2, (16, ))\n",
    "loss_function = torch.nn.CrossEntropyLoss()\n",
    "batch = x, y"
   ]
  },
  {
   "cell_type": "code",
   "execution_count": 9,
   "metadata": {},
   "outputs": [
    {
     "data": {
      "text/plain": [
       "torch.Size([1, 11689512])"
      ]
     },
     "execution_count": 9,
     "metadata": {},
     "output_type": "execute_result"
    }
   ],
   "source": [
    "v = torch.rand(sum(p.data.numel() for p in model.parameters()))\n",
    "\n",
    "Hv = hessian_matmul(model, loss_function, v, batch)\n",
    "Hv.size()"
   ]
  }
 ],
 "metadata": {
  "kernelspec": {
   "display_name": "Python 3",
   "language": "python",
   "name": "python3"
  },
  "language_info": {
   "codemirror_mode": {
    "name": "ipython",
    "version": 3
   },
   "file_extension": ".py",
   "mimetype": "text/x-python",
   "name": "python",
   "nbconvert_exporter": "python",
   "pygments_lexer": "ipython3",
   "version": "3.6.8"
  }
 },
 "nbformat": 4,
 "nbformat_minor": 2
}
