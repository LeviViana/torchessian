{
 "cells": [
  {
   "cell_type": "code",
   "execution_count": 1,
   "metadata": {},
   "outputs": [],
   "source": [
    "import torch\n",
    "from copy import deepcopy"
   ]
  },
  {
   "cell_type": "code",
   "execution_count": 2,
   "metadata": {},
   "outputs": [],
   "source": [
    "def hessian_matmul(model, loss_function, v, batch):\n",
    "    r = 0.001\n",
    "    model_delta = deepcopy(model)\n",
    "    begin = end = 0\n",
    "    for p in model_delta.parameters():\n",
    "        end = begin + p.data.numel()\n",
    "        p_flat = p.data.view(-1)        \n",
    "        p_flat += r * v[begin:end]\n",
    "        begin = end\n",
    "    \n",
    "    x, y = batch\n",
    "    E = loss_function(model(x), y)\n",
    "    E_delta = loss_function(model_delta(x), y)\n",
    "    \n",
    "    E.backward()\n",
    "    E_delta.backward()\n",
    "    \n",
    "    grad_w = torch.cat(list(p.grad.view(1, -1) for p in model.parameters()), 1)\n",
    "    grad_w_delta = torch.cat(list(p.grad.view(1, -1) for p in model_delta.parameters()), 1)\n",
    "    \n",
    "    grad_w.squeeze_()\n",
    "    grad_w_delta.squeeze_()\n",
    "    \n",
    "    return (grad_w_delta - grad_w) / r"
   ]
  },
  {
   "cell_type": "code",
   "execution_count": 3,
   "metadata": {},
   "outputs": [],
   "source": [
    "model = torch.nn.Linear(2, 1)\n",
    "torch.manual_seed(2019)\n",
    "v = torch.Tensor([1, 2, 3])\n",
    "x = torch.rand(10, 2)\n",
    "y = x.sum(1)\n",
    "def loss_function(y_hat, y):\n",
    "    return ((y_hat.view(-1) - y.view(-1)) * (y_hat.view(-1) - y.view(-1))).sum() / y.numel()\n",
    "batch = x, y"
   ]
  },
  {
   "cell_type": "code",
   "execution_count": 4,
   "metadata": {},
   "outputs": [
    {
     "data": {
      "text/plain": [
       "tensor([4.7985, 4.1026, 8.8365])"
      ]
     },
     "execution_count": 4,
     "metadata": {},
     "output_type": "execute_result"
    }
   ],
   "source": [
    "hessian_matmul(model, loss_function, v, batch)"
   ]
  },
  {
   "cell_type": "code",
   "execution_count": 17,
   "metadata": {},
   "outputs": [],
   "source": [
    "class SampleNN(torch.nn.Module):\n",
    "    def __init__(self, input_size):\n",
    "        super(SampleNN, self).__init__()\n",
    "        self.fc1 = torch.nn.Linear(input_size, 64)\n",
    "        self.conv = torch.nn.Conv2d(1, 1, 3, stride=1, padding=1)\n",
    "        self.fc2 = torch.nn.Linear(64, 1)\n",
    "    \n",
    "    def forward(self, x):\n",
    "        x = self.fc1(x)\n",
    "        x = x.view(-1, 1, 8, 8)\n",
    "        x = self.conv(x)\n",
    "        x = x.view(-1, 64)\n",
    "        x = self.fc2(x)\n",
    "        return x\n",
    "\n",
    "input_size = 10\n",
    "model = SampleNN(input_size)\n",
    "torch.manual_seed(2019)\n",
    "x = torch.rand(100, input_size)\n",
    "y = x.sum(1)\n",
    "def loss_function(y_hat, y):\n",
    "    return ((y_hat.view(-1) - y.view(-1)) * (y_hat.view(-1) - y.view(-1))).sum() / y.numel()\n",
    "batch = x, y"
   ]
  },
  {
   "cell_type": "code",
   "execution_count": 19,
   "metadata": {},
   "outputs": [
    {
     "data": {
      "text/plain": [
       "torch.Size([779])"
      ]
     },
     "execution_count": 19,
     "metadata": {},
     "output_type": "execute_result"
    }
   ],
   "source": [
    "v = torch.rand(sum(p.data.numel() for p in model.parameters()))\n",
    "\n",
    "Hv = hessian_matmul(model, loss_function, v, batch)\n",
    "Hv.size()"
   ]
  },
  {
   "cell_type": "code",
   "execution_count": 40,
   "metadata": {},
   "outputs": [],
   "source": [
    "from torchvision.models import resnet18\n",
    "\n",
    "model = resnet18(pretrained=False)\n",
    "torch.manual_seed(2019)\n",
    "x = torch.rand(16, 3, 224, 244)\n",
    "y = torch.randint(2, (16, ))\n",
    "loss_function = torch.nn.CrossEntropyLoss()\n",
    "batch = x, y"
   ]
  },
  {
   "cell_type": "code",
   "execution_count": 42,
   "metadata": {},
   "outputs": [
    {
     "data": {
      "text/plain": [
       "torch.Size([11689512])"
      ]
     },
     "execution_count": 42,
     "metadata": {},
     "output_type": "execute_result"
    }
   ],
   "source": [
    "v = torch.rand(sum(p.data.numel() for p in model.parameters()))\n",
    "\n",
    "Hv = hessian_matmul(model, loss_function, v, batch)\n",
    "Hv.size()"
   ]
  }
 ],
 "metadata": {
  "kernelspec": {
   "display_name": "Python [conda env:anaconda3]",
   "language": "python",
   "name": "conda-env-anaconda3-py"
  },
  "language_info": {
   "codemirror_mode": {
    "name": "ipython",
    "version": 3
   },
   "file_extension": ".py",
   "mimetype": "text/x-python",
   "name": "python",
   "nbconvert_exporter": "python",
   "pygments_lexer": "ipython3",
   "version": "3.5.4"
  }
 },
 "nbformat": 4,
 "nbformat_minor": 2
}
