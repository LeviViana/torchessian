{
 "cells": [
  {
   "cell_type": "code",
   "execution_count": 1,
   "metadata": {},
   "outputs": [],
   "source": [
    "import torch\n",
    "from itertools import product"
   ]
  },
  {
   "cell_type": "code",
   "execution_count": 2,
   "metadata": {},
   "outputs": [],
   "source": [
    "net = torch.nn.Linear(2, 1)\n",
    "net_delta = torch.nn.Linear(2, 1)\n",
    "\n",
    "v = torch.Tensor([1, 2, 3])\n",
    "r = 0.001\n",
    "\n",
    "net_delta.weight.data = net.weight.data + r * v[:2]\n",
    "net_delta.bias.data = net.bias.data + r * v[2:]"
   ]
  },
  {
   "cell_type": "code",
   "execution_count": 3,
   "metadata": {},
   "outputs": [],
   "source": [
    "torch.manual_seed(2019)\n",
    "x = torch.rand(10, 2)\n",
    "y = x.sum(1)\n",
    "def loss(y_hat, y):\n",
    "    return ((y_hat.view(-1) - y.view(-1)) * (y_hat.view(-1) - y.view(-1))).sum() / y.numel()"
   ]
  },
  {
   "cell_type": "code",
   "execution_count": 4,
   "metadata": {},
   "outputs": [],
   "source": [
    "E = loss(net(x), y)\n",
    "E_delta = loss(net_delta(x), y)"
   ]
  },
  {
   "cell_type": "code",
   "execution_count": 5,
   "metadata": {},
   "outputs": [],
   "source": [
    "E.backward()\n",
    "E_delta.backward()"
   ]
  },
  {
   "cell_type": "code",
   "execution_count": 6,
   "metadata": {},
   "outputs": [
    {
     "name": "stdout",
     "output_type": "stream",
     "text": [
      "tensor([[-2.1655, -1.8964]])\n",
      "tensor([-3.9271])\n"
     ]
    }
   ],
   "source": [
    "print(net.weight.grad)\n",
    "print(net.bias.grad)"
   ]
  },
  {
   "cell_type": "code",
   "execution_count": 7,
   "metadata": {},
   "outputs": [
    {
     "name": "stdout",
     "output_type": "stream",
     "text": [
      "tensor([[-2.1607, -1.8923]])\n",
      "tensor([-3.9183])\n"
     ]
    }
   ],
   "source": [
    "print(net_delta.weight.grad)\n",
    "print(net_delta.bias.grad)"
   ]
  },
  {
   "cell_type": "code",
   "execution_count": 8,
   "metadata": {},
   "outputs": [],
   "source": [
    "w = torch.cat((net.weight.grad, net.bias.grad.unsqueeze(0)), 1).squeeze()\n",
    "w_delta = torch.cat((net_delta.weight.grad, net_delta.bias.grad.unsqueeze(0)), 1).squeeze()"
   ]
  },
  {
   "cell_type": "code",
   "execution_count": 9,
   "metadata": {},
   "outputs": [
    {
     "name": "stdout",
     "output_type": "stream",
     "text": [
      "tensor([[0.6830, 0.4263, 1.0876],\n",
      "        [0.4263, 0.5262, 0.8746],\n",
      "        [1.0876, 0.8746, 2.0000]])\n"
     ]
    }
   ],
   "source": [
    "# Exact Hessian\n",
    "\n",
    "h11 = 2 * (x[:, 0] * x[:, 0]).sum() / x.size(0)\n",
    "h21 = h12 = 2 * (x[:, 0] * x[:, 1]).sum() / x.size(0)\n",
    "h31 = h13 = 2 * x[:, 0].sum() / x.size(0)\n",
    "\n",
    "h22 = 2 * (x[:, 1] * x[:, 1]).sum() / x.size(0)\n",
    "h32 = h23 = 2 * x[:, 1].sum() / x.size(0)\n",
    "\n",
    "h33 = 2\n",
    "\n",
    "H = torch.zeros(3, 3)\n",
    "\n",
    "for i, j in product(range(3), range(3)):\n",
    "    exec(\"H[%d, %d] = h%d%d\" % (i, j, i+1, j+1))\n",
    "    \n",
    "print(H)"
   ]
  },
  {
   "cell_type": "code",
   "execution_count": 10,
   "metadata": {},
   "outputs": [
    {
     "name": "stdout",
     "output_type": "stream",
     "text": [
      "Estimated dot product -> tensor([4.7987, 4.1025, 8.8372])\n",
      "Actual dot product    -> tensor([4.7984, 4.1026, 8.8368])\n"
     ]
    }
   ],
   "source": [
    "print(\"Estimated dot product ->\", (w_delta - w) / r)\n",
    "print(\"Actual dot product    ->\", H.matmul(v))"
   ]
  }
 ],
 "metadata": {
  "kernelspec": {
   "display_name": "Python [conda env:anaconda3]",
   "language": "python",
   "name": "conda-env-anaconda3-py"
  },
  "language_info": {
   "codemirror_mode": {
    "name": "ipython",
    "version": 3
   },
   "file_extension": ".py",
   "mimetype": "text/x-python",
   "name": "python",
   "nbconvert_exporter": "python",
   "pygments_lexer": "ipython3",
   "version": "3.5.4"
  }
 },
 "nbformat": 4,
 "nbformat_minor": 2
}
