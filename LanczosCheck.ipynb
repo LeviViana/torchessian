{
 "cells": [
  {
   "cell_type": "code",
   "execution_count": 1,
   "metadata": {},
   "outputs": [],
   "source": [
    "import torch\n",
    "from torchessian import hessian_matmul, lanczos\n",
    "from torchvision.models import resnet18\n",
    "from itertools import product"
   ]
  },
  {
   "cell_type": "code",
   "execution_count": 2,
   "metadata": {},
   "outputs": [
    {
     "name": "stdout",
     "output_type": "stream",
     "text": [
      "tensor([[0.6816, 0.6491, 1.0284],\n",
      "        [0.6491, 0.9645, 1.2512],\n",
      "        [1.0284, 1.2512, 2.0000]])\n"
     ]
    }
   ],
   "source": [
    "n = 2\n",
    "model = torch.nn.Linear(n, 1)\n",
    "# torch.manual_seed(2019)\n",
    "v = torch.rand(sum(p.data.numel() for p in model.parameters()))\n",
    "x = torch.rand(10, n)\n",
    "y = x.sum(1)\n",
    "def loss_function(y_hat, y):\n",
    "    return ((y_hat.view(-1) - y.view(-1)) * (y_hat.view(-1) - y.view(-1))).sum() / y.numel()\n",
    "batch = x, y\n",
    "m = 3\n",
    "# Exact Hessian\n",
    "\n",
    "h11 = 2 * (x[:, 0] * x[:, 0]).sum() / x.size(0)\n",
    "h21 = h12 = 2 * (x[:, 0] * x[:, 1]).sum() / x.size(0)\n",
    "h31 = h13 = 2 * x[:, 0].sum() / x.size(0)\n",
    "\n",
    "h22 = 2 * (x[:, 1] * x[:, 1]).sum() / x.size(0)\n",
    "h32 = h23 = 2 * x[:, 1].sum() / x.size(0)\n",
    "\n",
    "h33 = 2\n",
    "\n",
    "H = torch.zeros(3, 3)\n",
    "\n",
    "for i, j in product(range(3), range(3)):\n",
    "    exec(\"H[%d, %d] = h%d%d\" % (i, j, i+1, j+1))\n",
    "    \n",
    "print(H)"
   ]
  },
  {
   "cell_type": "code",
   "execution_count": 3,
   "metadata": {},
   "outputs": [],
   "source": [
    "T, V = lanczos(model, loss_function, batch, m)"
   ]
  },
  {
   "cell_type": "code",
   "execution_count": 4,
   "metadata": {},
   "outputs": [
    {
     "data": {
      "text/plain": [
       "tensor([[3.3829, 0.0000],\n",
       "        [0.1022, 0.0000],\n",
       "        [0.1605, 0.0000]])"
      ]
     },
     "execution_count": 4,
     "metadata": {},
     "output_type": "execute_result"
    }
   ],
   "source": [
    "v = torch.eig(T)[0]\n",
    "v.sort()\n",
    "v"
   ]
  },
  {
   "cell_type": "code",
   "execution_count": 5,
   "metadata": {},
   "outputs": [
    {
     "data": {
      "text/plain": [
       "tensor([[3.3834, 0.0000],\n",
       "        [0.1606, 0.0000],\n",
       "        [0.1021, 0.0000]])"
      ]
     },
     "execution_count": 5,
     "metadata": {},
     "output_type": "execute_result"
    }
   ],
   "source": [
    "v = torch.eig(H)[0]\n",
    "v.sort()\n",
    "v"
   ]
  },
  {
   "cell_type": "code",
   "execution_count": 6,
   "metadata": {},
   "outputs": [
    {
     "name": "stdout",
     "output_type": "stream",
     "text": [
      "-0.000\n",
      "0.000\n"
     ]
    }
   ],
   "source": [
    "for i in range(m - 1):\n",
    "    print(\"{:.3f}\".format(V[i, :].dot(V[m - 1, :])))"
   ]
  }
 ],
 "metadata": {
  "kernelspec": {
   "display_name": "Python [conda env:anaconda3]",
   "language": "python",
   "name": "conda-env-anaconda3-py"
  },
  "language_info": {
   "codemirror_mode": {
    "name": "ipython",
    "version": 3
   },
   "file_extension": ".py",
   "mimetype": "text/x-python",
   "name": "python",
   "nbconvert_exporter": "python",
   "pygments_lexer": "ipython3",
   "version": "3.5.4"
  }
 },
 "nbformat": 4,
 "nbformat_minor": 2
}
