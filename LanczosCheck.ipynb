{
 "cells": [
  {
   "cell_type": "code",
   "execution_count": 1,
   "metadata": {},
   "outputs": [],
   "source": [
    "import torch\n",
    "from torchessian import hessian_matmul, lanczos\n",
    "from itertools import product\n",
    "from copy import deepcopy"
   ]
  },
  {
   "cell_type": "code",
   "execution_count": 119,
   "metadata": {},
   "outputs": [
    {
     "name": "stdout",
     "output_type": "stream",
     "text": [
      "tensor([[0.6434, 0.4898, 0.9823],\n",
      "        [0.4898, 0.6738, 1.0056],\n",
      "        [0.9823, 1.0056, 2.0000]])\n"
     ]
    }
   ],
   "source": [
    "n = 2\n",
    "model = torch.nn.Linear(n, 1)\n",
    "# torch.manual_seed(2019)\n",
    "v = torch.rand(sum(p.data.numel() for p in model.parameters()))\n",
    "x = torch.rand(1000, n)\n",
    "y = x.sum(1)\n",
    "def loss_function(y_hat, y):\n",
    "    return ((y_hat.view(-1) - y.view(-1)) * (y_hat.view(-1) - y.view(-1))).sum() / y.numel()\n",
    "batch = x, y\n",
    "m = 3\n",
    "# Exact Hessian\n",
    "\n",
    "h11 = 2 * (x[:, 0] * x[:, 0]).sum() / x.size(0)\n",
    "h21 = h12 = 2 * (x[:, 0] * x[:, 1]).sum() / x.size(0)\n",
    "h31 = h13 = 2 * x[:, 0].sum() / x.size(0)\n",
    "\n",
    "h22 = 2 * (x[:, 1] * x[:, 1]).sum() / x.size(0)\n",
    "h32 = h23 = 2 * x[:, 1].sum() / x.size(0)\n",
    "\n",
    "h33 = 2\n",
    "\n",
    "H = torch.zeros(3, 3)\n",
    "\n",
    "for i, j in product(range(3), range(3)):\n",
    "    exec(\"H[%d, %d] = h%d%d\" % (i, j, i+1, j+1))\n",
    "    \n",
    "print(H)"
   ]
  },
  {
   "cell_type": "code",
   "execution_count": 120,
   "metadata": {},
   "outputs": [
    {
     "data": {
      "text/plain": [
       "tensor([3.0431, 0.1054, 0.1687])"
      ]
     },
     "execution_count": 120,
     "metadata": {},
     "output_type": "execute_result"
    }
   ],
   "source": [
    "torch.eig(lanczos(model, loss_function, batch, 3, 3)[0])[0][:, 0]"
   ]
  },
  {
   "cell_type": "code",
   "execution_count": 101,
   "metadata": {},
   "outputs": [],
   "source": [
    "def hessian_matmul_pearl(model, loss_function, v, batch):\n",
    "    r = 1e-1\n",
    "    model_delta = deepcopy(model)\n",
    "    begin = end = 0\n",
    "    for p in model_delta.parameters():\n",
    "        if not p.requires_grad:\n",
    "            continue\n",
    "        end = begin + p.data.numel()\n",
    "        p_flat = p.data.view(-1)\n",
    "        p_flat += r * v[begin:end]\n",
    "        begin = end\n",
    "\n",
    "\n",
    "    model.zero_grad()\n",
    "\n",
    "    x, y = batch\n",
    "    E = loss_function(model(x), y)\n",
    "    E_delta = loss_function(model_delta(x), y)\n",
    "\n",
    "    E.backward()\n",
    "    E_delta.backward()\n",
    "\n",
    "    grad_w = torch.cat(\n",
    "        list(p.grad.view(1, -1) for p in model.parameters() if p.requires_grad), \n",
    "        1\n",
    "    )\n",
    "    grad_w_delta = torch.cat(\n",
    "        list(p.grad.view(1, -1) for p in model_delta.parameters() if p.requires_grad), \n",
    "        1\n",
    "    )\n",
    "\n",
    "    grad_w.squeeze_()\n",
    "    grad_w_delta.squeeze_()\n",
    "\n",
    "\n",
    "    return (grad_w_delta - grad_w) / r\n"
   ]
  },
  {
   "cell_type": "code",
   "execution_count": 102,
   "metadata": {},
   "outputs": [
    {
     "data": {
      "text/plain": [
       "tensor(1.3323e-15, dtype=torch.float64)"
      ]
     },
     "execution_count": 102,
     "metadata": {},
     "output_type": "execute_result"
    }
   ],
   "source": [
    "model = model.to(torch.float64)\n",
    "v = torch.ones(3).double()\n",
    "h1 = hessian_matmul_pearl(model, loss_function, v, batch)\n",
    "h2 = hessian_matmul(model, loss_function, v, batch)\n",
    "\n",
    "(h1 - h2).norm()"
   ]
  },
  {
   "cell_type": "code",
   "execution_count": 96,
   "metadata": {},
   "outputs": [],
   "source": [
    "from torchvision.models import resnet18\n",
    "\n",
    "model = resnet18(pretrained=False)\n",
    "model = model.to(torch.float64)\n",
    "torch.manual_seed(2019)\n",
    "x = torch.rand(16, 3, 224, 244).double()\n",
    "y = torch.randint(2, (16, ))\n",
    "loss_function = torch.nn.CrossEntropyLoss()\n",
    "batch = x, y\n",
    "v = torch.rand(sum(p.data.numel() for p in model.parameters() if p.requires_grad)).double()"
   ]
  },
  {
   "cell_type": "code",
   "execution_count": 98,
   "metadata": {},
   "outputs": [
    {
     "data": {
      "text/plain": [
       "torch.return_types.sort(\n",
       "values=tensor([-2.7155, -2.5175, -2.3020,  ...,  2.1834,  2.3812,  2.6128],\n",
       "       dtype=torch.float64),\n",
       "indices=tensor([8128,   75, 7607,  ...,  489, 2924, 2016]))"
      ]
     },
     "execution_count": 98,
     "metadata": {},
     "output_type": "execute_result"
    }
   ],
   "source": [
    "h1.sort()"
   ]
  },
  {
   "cell_type": "code",
   "execution_count": 99,
   "metadata": {},
   "outputs": [
    {
     "data": {
      "text/plain": [
       "torch.return_types.sort(\n",
       "values=tensor([-62.0502, -60.6201, -59.0441,  ...,  61.1140,  63.2780,  79.3621],\n",
       "       dtype=torch.float64),\n",
       "indices=tensor([4583, 2483, 9183,  ..., 7450, 2544, 6928]))"
      ]
     },
     "execution_count": 99,
     "metadata": {},
     "output_type": "execute_result"
    }
   ],
   "source": [
    "h2.sort()"
   ]
  },
  {
   "cell_type": "code",
   "execution_count": 97,
   "metadata": {},
   "outputs": [
    {
     "data": {
      "text/plain": [
       "tensor(2215.4188, dtype=torch.float64)"
      ]
     },
     "execution_count": 97,
     "metadata": {},
     "output_type": "execute_result"
    }
   ],
   "source": [
    "h1 = hessian_matmul_pearl(model, loss_function, v, batch)\n",
    "h2 = hessian_matmul(model, loss_function, v, batch)\n",
    "\n",
    "(h1 - h2).norm()"
   ]
  }
 ],
 "metadata": {
  "kernelspec": {
   "display_name": "Python 3",
   "language": "python",
   "name": "python3"
  },
  "language_info": {
   "codemirror_mode": {
    "name": "ipython",
    "version": 3
   },
   "file_extension": ".py",
   "mimetype": "text/x-python",
   "name": "python",
   "nbconvert_exporter": "python",
   "pygments_lexer": "ipython3",
   "version": "3.6.8"
  }
 },
 "nbformat": 4,
 "nbformat_minor": 2
}
