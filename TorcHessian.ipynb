{
 "cells": [
  {
   "cell_type": "code",
   "execution_count": 1,
   "metadata": {},
   "outputs": [],
   "source": [
    "import torch\n",
    "import numpy as np\n",
    "from torchessian import hessian_matmul\n",
    "from torchvision.models import resnet18\n",
    "from itertools import product"
   ]
  },
  {
   "cell_type": "code",
   "execution_count": 8,
   "metadata": {},
   "outputs": [
    {
     "name": "stdout",
     "output_type": "stream",
     "text": [
      "tensor([[0.2813, 0.3361, 0.5711],\n",
      "        [0.3361, 0.6524, 0.9809],\n",
      "        [0.5711, 0.9809, 2.0000]])\n"
     ]
    }
   ],
   "source": [
    "n = 2\n",
    "model = torch.nn.Linear(n, 1)\n",
    "# torch.manual_seed(2019)\n",
    "v = torch.rand(sum(p.data.numel() for p in model.parameters()))\n",
    "x = torch.rand(10, n)\n",
    "y = x.sum(1)\n",
    "def loss_function(y_hat, y):\n",
    "    return ((y_hat.view(-1) - y.view(-1)) * (y_hat.view(-1) - y.view(-1))).sum() / y.numel()\n",
    "batch = x, y\n",
    "m = 3\n",
    "# Exact Hessian\n",
    "\n",
    "h11 = 2 * (x[:, 0] * x[:, 0]).sum() / x.size(0)\n",
    "h21 = h12 = 2 * (x[:, 0] * x[:, 1]).sum() / x.size(0)\n",
    "h31 = h13 = 2 * x[:, 0].sum() / x.size(0)\n",
    "\n",
    "h22 = 2 * (x[:, 1] * x[:, 1]).sum() / x.size(0)\n",
    "h32 = h23 = 2 * x[:, 1].sum() / x.size(0)\n",
    "\n",
    "h33 = 2\n",
    "\n",
    "H = torch.zeros(3, 3)\n",
    "\n",
    "for i, j in product(range(3), range(3)):\n",
    "    exec(\"H[%d, %d] = h%d%d\" % (i, j, i+1, j+1))\n",
    "    \n",
    "print(H)"
   ]
  },
  {
   "cell_type": "code",
   "execution_count": 9,
   "metadata": {},
   "outputs": [],
   "source": [
    "def lanczos(model, loss_function, batch, m):\n",
    "    global H\n",
    "    n = sum(p.data.numel() for p in model.parameters())\n",
    "    v = np.ones(n) / np.sqrt(n)\n",
    "    w = hessian_matmul(model, loss_function, torch.Tensor(v), batch).numpy()\n",
    "    alpha = []\n",
    "    alpha.append(w.dot(v))\n",
    "    w -= alpha[0] * v\n",
    "    \n",
    "    V = [v]\n",
    "    beta = []\n",
    "    \n",
    "    for i in range(1, m):\n",
    "        b = np.linalg.norm(w)\n",
    "        beta.append(b)\n",
    "        if b > 0:\n",
    "            v = w / b\n",
    "        else:\n",
    "            done = False\n",
    "            k = 0\n",
    "            while not done:\n",
    "                k += 1\n",
    "                v = np.random.rand(n)\n",
    "                \n",
    "                for v_ in V:\n",
    "                    v -= v.dot(v_) * v_\n",
    "                \n",
    "                done = np.linalg.norm(n) > 0\n",
    "                if k > n * 10:\n",
    "                    raise Exception(\"Can't find orthogonal vector\")\n",
    "            \n",
    "            v /= np.linalg.norm(n)\n",
    "                \n",
    "        for v_ in V:\n",
    "            v -= v.dot(v_) * v_\n",
    "            v /= np.linalg.norm(v)\n",
    "               \n",
    "        V.append(v)\n",
    "        w = hessian_matmul(model, loss_function, torch.Tensor(v), batch).numpy()\n",
    "        alpha.append(w.dot(v))\n",
    "        w = w - alpha[-1] * V[-1] - beta[-1] * V[-2]\n",
    "\n",
    "    T = np.diag(alpha)\n",
    "    for i in range(m - 1):\n",
    "        T[i, i + 1] = beta[i] \n",
    "        T[i + 1, i] = beta[i]\n",
    "\n",
    "    V = np.array(V)\n",
    "    return T, V"
   ]
  },
  {
   "cell_type": "code",
   "execution_count": 10,
   "metadata": {},
   "outputs": [],
   "source": [
    "T, V = lanczos(model, loss_function, batch, m)"
   ]
  },
  {
   "cell_type": "code",
   "execution_count": 11,
   "metadata": {},
   "outputs": [
    {
     "data": {
      "text/plain": [
       "array([0.08271125, 0.15347193, 2.69761154])"
      ]
     },
     "execution_count": 11,
     "metadata": {},
     "output_type": "execute_result"
    }
   ],
   "source": [
    "v = np.linalg.eig(T)[0]\n",
    "v.sort()\n",
    "v"
   ]
  },
  {
   "cell_type": "code",
   "execution_count": 12,
   "metadata": {},
   "outputs": [
    {
     "data": {
      "text/plain": [
       "array([0.08273784, 0.15341313, 2.697591  ], dtype=float32)"
      ]
     },
     "execution_count": 12,
     "metadata": {},
     "output_type": "execute_result"
    }
   ],
   "source": [
    "v = np.linalg.eig(H)[0]\n",
    "v.sort()\n",
    "v"
   ]
  },
  {
   "cell_type": "code",
   "execution_count": 13,
   "metadata": {},
   "outputs": [
    {
     "name": "stdout",
     "output_type": "stream",
     "text": [
      "0.000\n",
      "0.000\n"
     ]
    }
   ],
   "source": [
    "for i in range(m - 1):\n",
    "    print(\"{:.3f}\".format(V[i, :].dot(V[m - 1, :])))"
   ]
  },
  {
   "cell_type": "code",
   "execution_count": null,
   "metadata": {},
   "outputs": [],
   "source": []
  }
 ],
 "metadata": {
  "kernelspec": {
   "display_name": "Python [conda env:anaconda3]",
   "language": "python",
   "name": "conda-env-anaconda3-py"
  },
  "language_info": {
   "codemirror_mode": {
    "name": "ipython",
    "version": 3
   },
   "file_extension": ".py",
   "mimetype": "text/x-python",
   "name": "python",
   "nbconvert_exporter": "python",
   "pygments_lexer": "ipython3",
   "version": "3.5.4"
  }
 },
 "nbformat": 4,
 "nbformat_minor": 2
}
