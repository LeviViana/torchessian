{
 "cells": [
  {
   "cell_type": "code",
   "execution_count": 14,
   "metadata": {},
   "outputs": [],
   "source": [
    "import torch\n",
    "from torchessian import hessian_matmul\n",
    "from torchvision.models import resnet18"
   ]
  },
  {
   "cell_type": "code",
   "execution_count": 15,
   "metadata": {},
   "outputs": [],
   "source": [
    "model = torch.nn.Linear(6, 1)\n",
    "torch.manual_seed(2019)\n",
    "v = torch.rand(sum(p.data.numel() for p in model.parameters()))\n",
    "x = torch.rand(10, 6)\n",
    "y = x.sum(1)\n",
    "def loss_function(y_hat, y):\n",
    "    return ((y_hat.view(-1) - y.view(-1)) * (y_hat.view(-1) - y.view(-1))).sum() / y.numel()\n",
    "batch = x, y"
   ]
  },
  {
   "cell_type": "code",
   "execution_count": 16,
   "metadata": {},
   "outputs": [],
   "source": [
    "def lanczos(model, loss_function, v, batch, m):\n",
    "    V_ = [v]\n",
    "    for _ in range(m - 1):\n",
    "        v_ = hessian_matmul(model, loss_function, v, batch)\n",
    "        V_.append(v)\n",
    "\n",
    "    V_ = torch.cat(list(v.unsqueeze(0) for v in V_), 0) # [m, n]\n",
    "    V_ = V_.transpose(0, 1) # [n, m]\n",
    "    # Check if n > m\n",
    "    V, _ = torch.qr(V_) # [n, m]\n",
    "    \n",
    "    Hv = []\n",
    "    for i in range(m):\n",
    "        v = V[:, i] # [n]\n",
    "        Hv.append(hessian_matmul(model, loss_function, v, batch))\n",
    "    \n",
    "    Hv = torch.cat(list(v.unsqueeze(0) for v in Hv), 0) # [m, n]\n",
    "    T = V.transpose(0, 1).matmul(Hv.transpose(0, 1)) # VHV\n",
    "    \n",
    "    return T"
   ]
  },
  {
   "cell_type": "code",
   "execution_count": 17,
   "metadata": {},
   "outputs": [],
   "source": [
    "T = lanczos(model, loss_function, v, batch, 5)"
   ]
  },
  {
   "cell_type": "code",
   "execution_count": 18,
   "metadata": {},
   "outputs": [
    {
     "data": {
      "text/plain": [
       "tensor([[-40179.0859, -50228.6133, -60274.3789, -70320.8203, -80363.6406],\n",
       "        [  6872.0557,   8591.0469,  10309.0186,  12027.3701,  13744.9531],\n",
       "        [  8317.8086,  10398.2607,  12478.0254,  14557.7568,  16636.7188],\n",
       "        [ 18516.6230,  23148.0117,  27777.5957,  32407.5391,  37035.6484],\n",
       "        [-16251.3496, -20315.9902, -24379.2031, -28442.7109, -32504.4727]])"
      ]
     },
     "execution_count": 18,
     "metadata": {},
     "output_type": "execute_result"
    }
   ],
   "source": [
    "T"
   ]
  },
  {
   "cell_type": "code",
   "execution_count": 19,
   "metadata": {},
   "outputs": [],
   "source": [
    "w, v = torch.eig(T, eigenvectors=True)"
   ]
  },
  {
   "cell_type": "code",
   "execution_count": 20,
   "metadata": {},
   "outputs": [
    {
     "data": {
      "text/plain": [
       "tensor([[-1.9208e+04,  0.0000e+00],\n",
       "        [ 6.8007e-01,  0.0000e+00],\n",
       "        [ 2.2778e-02,  0.0000e+00],\n",
       "        [ 2.4571e-01,  0.0000e+00],\n",
       "        [ 1.6875e-01,  0.0000e+00]])"
      ]
     },
     "execution_count": 20,
     "metadata": {},
     "output_type": "execute_result"
    }
   ],
   "source": [
    "w"
   ]
  },
  {
   "cell_type": "code",
   "execution_count": 21,
   "metadata": {},
   "outputs": [
    {
     "data": {
      "text/plain": [
       "tensor([[-13263.8984,   2268.6606,   2745.7505,   6112.6572,  -5364.9922],\n",
       "        [  2268.6604,   -387.8971,   -469.6662,  -1045.4684,    917.5088],\n",
       "        [  2745.7505,   -469.6662,   -568.3350,  -1265.3640,   1110.5846],\n",
       "        [  6112.6572,  -1045.4684,  -1265.3640,  -2816.9634,   2472.3718],\n",
       "        [ -5364.9922,    917.5088,   1110.5846,   2472.3718,  -2169.8423]])"
      ]
     },
     "execution_count": 21,
     "metadata": {},
     "output_type": "execute_result"
    }
   ],
   "source": [
    "v.matmul(torch.diag(w[:, 0])).matmul(v.transpose(0, 1))"
   ]
  },
  {
   "cell_type": "code",
   "execution_count": 22,
   "metadata": {},
   "outputs": [
    {
     "data": {
      "text/plain": [
       "tensor([[ 0.8310, -0.7659, -0.8550,  0.5809,  0.4943],\n",
       "        [-0.1421,  0.2081,  0.2421,  0.4221,  0.5113],\n",
       "        [-0.1720,  0.2601,  0.5437, -0.0197, -0.6229],\n",
       "        [-0.3830,  0.4447, -0.5299,  0.1087, -0.2864],\n",
       "        [ 0.3361, -0.3282, -0.1576, -0.6428,  0.1524]])"
      ]
     },
     "execution_count": 22,
     "metadata": {},
     "output_type": "execute_result"
    }
   ],
   "source": [
    "T.matmul(v).matmul(torch.diag(1/w[:, 0]))"
   ]
  }
 ],
 "metadata": {
  "kernelspec": {
   "display_name": "Python [conda env:anaconda3]",
   "language": "python",
   "name": "conda-env-anaconda3-py"
  },
  "language_info": {
   "codemirror_mode": {
    "name": "ipython",
    "version": 3
   },
   "file_extension": ".py",
   "mimetype": "text/x-python",
   "name": "python",
   "nbconvert_exporter": "python",
   "pygments_lexer": "ipython3",
   "version": "3.5.4"
  }
 },
 "nbformat": 4,
 "nbformat_minor": 2
}
