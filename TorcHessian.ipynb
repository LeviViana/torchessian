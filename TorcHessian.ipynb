{
 "cells": [
  {
   "cell_type": "code",
   "execution_count": 1,
   "metadata": {},
   "outputs": [],
   "source": [
    "import torch\n",
    "import numpy as np\n",
    "from torchessian import hessian_matmul\n",
    "from torchvision.models import resnet18"
   ]
  },
  {
   "cell_type": "code",
   "execution_count": 156,
   "metadata": {},
   "outputs": [],
   "source": [
    "n = 20\n",
    "model = torch.nn.Linear(n, 1)\n",
    "torch.manual_seed(2019)\n",
    "v = torch.rand(sum(p.data.numel() for p in model.parameters()))\n",
    "x = torch.rand(10, n)\n",
    "y = x.sum(1)\n",
    "def loss_function(y_hat, y):\n",
    "    return ((y_hat.view(-1) - y.view(-1)) * (y_hat.view(-1) - y.view(-1))).sum() / y.numel()\n",
    "batch = x, y\n",
    "m = 3"
   ]
  },
  {
   "cell_type": "code",
   "execution_count": 245,
   "metadata": {},
   "outputs": [],
   "source": [
    "def solve(A, m):\n",
    "    n = A.shape[0]\n",
    "    v = np.ones(n) / np.sqrt(n)\n",
    "    w = A.dot(v)\n",
    "    alpha = []\n",
    "    alpha.append(w.dot(v))\n",
    "    w -= alpha[0] * v\n",
    "    \n",
    "    V = [v]\n",
    "    beta = []\n",
    "    \n",
    "    for i in range(1, m):\n",
    "        b = np.linalg.norm(w)\n",
    "        beta.append(b)\n",
    "        if b > 0:\n",
    "            v = w / b\n",
    "        else:\n",
    "            done = False\n",
    "            k = 0\n",
    "            while not done:\n",
    "                k += 1\n",
    "                v = np.random.rand(n)\n",
    "                \n",
    "                for v_ in V:\n",
    "                    v -= v.dot(v_) * v_\n",
    "                \n",
    "                done = np.linalg.norm(n) > 0\n",
    "                if k > n * 10:\n",
    "                    raise Exception(\"Can't find orthogonal vector\")\n",
    "            \n",
    "            v /= np.linalg.norm(n)\n",
    "                \n",
    "        for v_ in V:\n",
    "            v -= v.dot(v_) * v_\n",
    "            v /= np.linalg.norm(v)\n",
    "               \n",
    "        V.append(v)\n",
    "        w = A.dot(v)\n",
    "        alpha.append(w.dot(v))\n",
    "        w = w - alpha[-1] * V[-1] - beta[-1] * V[-2]\n",
    "\n",
    "    T = np.diag(alpha)\n",
    "    for i in range(m - 1):\n",
    "        T[i, i + 1] = beta[i] \n",
    "        T[i + 1, i] = beta[i]\n",
    "\n",
    "    V = np.array(V)\n",
    "    return T, V"
   ]
  },
  {
   "cell_type": "code",
   "execution_count": 246,
   "metadata": {},
   "outputs": [],
   "source": [
    "H = torch.tensor([[0.6830, 0.4263, 1.0876],\n",
    "        [0.4263, 0.5262, 0.8746],\n",
    "        [1.0876, 0.8746, 2.0000]])\n",
    "\n",
    "n = 10\n",
    "\n",
    "H = np.zeros((n, n))\n",
    "for i in range(n):\n",
    "    H[i, i:] = np.random.rand(n - i)\n",
    "\n",
    "for i in range(n):\n",
    "    H[i:, i] = H[i, i:]"
   ]
  },
  {
   "cell_type": "code",
   "execution_count": 251,
   "metadata": {},
   "outputs": [],
   "source": [
    "m = 9\n",
    "T, V = solve(H, m)"
   ]
  },
  {
   "cell_type": "code",
   "execution_count": 252,
   "metadata": {},
   "outputs": [
    {
     "data": {
      "text/plain": [
       "array([-1.36059246, -1.16382719, -0.5634516 , -0.27759082,  0.11037997,\n",
       "        0.43755372,  0.98927396,  1.25766897,  4.59069595])"
      ]
     },
     "execution_count": 252,
     "metadata": {},
     "output_type": "execute_result"
    }
   ],
   "source": [
    "v = np.linalg.eig(T)[0]\n",
    "v.sort()\n",
    "v"
   ]
  },
  {
   "cell_type": "code",
   "execution_count": 253,
   "metadata": {},
   "outputs": [
    {
     "data": {
      "text/plain": [
       "array([-1.36065533, -1.16404016, -0.57419454, -0.30143077,  0.04803424,\n",
       "        0.33196491,  0.49455316,  0.99003085,  1.25804118,  4.59069595])"
      ]
     },
     "execution_count": 253,
     "metadata": {},
     "output_type": "execute_result"
    }
   ],
   "source": [
    "v = np.linalg.eig(H)[0]\n",
    "v.sort()\n",
    "v"
   ]
  },
  {
   "cell_type": "code",
   "execution_count": 254,
   "metadata": {},
   "outputs": [
    {
     "name": "stdout",
     "output_type": "stream",
     "text": [
      "-0.000\n",
      "-0.000\n",
      "-0.000\n",
      "-0.000\n",
      "-0.000\n",
      "-0.000\n",
      "-0.000\n",
      "0.000\n"
     ]
    }
   ],
   "source": [
    "for i in range(m - 1):\n",
    "    print(\"{:.3f}\".format(V[i, :].dot(V[m - 1, :])))"
   ]
  },
  {
   "cell_type": "code",
   "execution_count": null,
   "metadata": {},
   "outputs": [],
   "source": []
  },
  {
   "cell_type": "code",
   "execution_count": 111,
   "metadata": {},
   "outputs": [],
   "source": [
    "a = np.random.rand(3)\n",
    "a /= np.linalg.norm(a)\n",
    "b = np.random.rand(3)\n",
    "c = np.random.rand(3)"
   ]
  },
  {
   "cell_type": "code",
   "execution_count": 112,
   "metadata": {},
   "outputs": [],
   "source": [
    "b -= b.dot(a) * a\n",
    "b /= np.linalg.norm(b)"
   ]
  },
  {
   "cell_type": "code",
   "execution_count": 113,
   "metadata": {},
   "outputs": [],
   "source": [
    "c -= c.dot(a) * a\n",
    "# c /= np.linalg.norm(c)\n",
    "c -= c.dot(b) * b\n",
    "# c /= np.linalg.norm(c)"
   ]
  },
  {
   "cell_type": "code",
   "execution_count": 114,
   "metadata": {},
   "outputs": [
    {
     "name": "stdout",
     "output_type": "stream",
     "text": [
      "-5.551115123125783e-17\n",
      "1.0408340855860843e-16\n",
      "-1.3877787807814457e-17\n"
     ]
    }
   ],
   "source": [
    "print(a.dot(b))\n",
    "print(a.dot(c))\n",
    "print(c.dot(b))"
   ]
  }
 ],
 "metadata": {
  "kernelspec": {
   "display_name": "Python [conda env:anaconda3]",
   "language": "python",
   "name": "conda-env-anaconda3-py"
  },
  "language_info": {
   "codemirror_mode": {
    "name": "ipython",
    "version": 3
   },
   "file_extension": ".py",
   "mimetype": "text/x-python",
   "name": "python",
   "nbconvert_exporter": "python",
   "pygments_lexer": "ipython3",
   "version": "3.5.4"
  }
 },
 "nbformat": 4,
 "nbformat_minor": 2
}
