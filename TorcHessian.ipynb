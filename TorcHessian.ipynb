{
 "cells": [
  {
   "cell_type": "code",
   "execution_count": 1,
   "metadata": {},
   "outputs": [],
   "source": [
    "import torch\n",
    "import numpy as np\n",
    "from torchessian import hessian_matmul\n",
    "from torchvision.models import resnet18"
   ]
  },
  {
   "cell_type": "code",
   "execution_count": 2,
   "metadata": {},
   "outputs": [],
   "source": [
    "model = torch.nn.Linear(6, 1)\n",
    "torch.manual_seed(2019)\n",
    "v = torch.rand(sum(p.data.numel() for p in model.parameters()))\n",
    "x = torch.rand(10, 6)\n",
    "y = x.sum(1)\n",
    "def loss_function(y_hat, y):\n",
    "    return ((y_hat.view(-1) - y.view(-1)) * (y_hat.view(-1) - y.view(-1))).sum() / y.numel()\n",
    "batch = x, y"
   ]
  },
  {
   "cell_type": "code",
   "execution_count": 41,
   "metadata": {},
   "outputs": [],
   "source": [
    "def solve(A, desired_rank):\n",
    "    # Calculate two more eigenvalues, but we only keep the largest desired_rank\n",
    "    # one. Doing this to keep the result consistent with scipy.sparse.linalg.svds.\n",
    "\n",
    "    n = A.shape[1]\n",
    "    v_next = np.ones(n) / np.sqrt(n)\n",
    "    v_prev = np.zeros(n)\n",
    "    beta = np.zeros(desired_rank+1)\n",
    "    beta[0] = 0\n",
    "    alpha = np.zeros(desired_rank)\n",
    "\n",
    "    # Since the disiredRank << size of matrix, so we keep\n",
    "    # V in local memory for efficiency reason(It needs to be updated\n",
    "    # for every iteration). \n",
    "    # If the case which V can't be fit in local memory occurs, \n",
    "    # you could turn it into spartan distributed array. \n",
    "    V = np.zeros((n, desired_rank))\n",
    "\n",
    "    for i in range(desired_rank):\n",
    "        v_next_expr = v_next.reshape(n, 1)\n",
    "        w = np.dot(A, v_next_expr).reshape(n)\n",
    "\n",
    "        w = w - alpha[i] * v_next - beta[i] * v_prev\n",
    "\n",
    "        # Orthogonalize:\n",
    "        for t in range(i):\n",
    "            tmpa = np.dot(w, V[:, t])\n",
    "            if tmpa == 0.0:\n",
    "                continue\n",
    "            w -= tmpa * V[:, t] \n",
    "\n",
    "        beta[i+1] = np.linalg.norm(w, 2) \n",
    "        v_prev = v_next\n",
    "        v_next = w / beta[i+1]\n",
    "        V[:, i] = v_prev\n",
    "\n",
    "    # Create tridiag matrix with size (desired_rank X desired_rank)  \n",
    "    tridiag = np.diag(alpha)\n",
    "    for i in range(desired_rank-1):\n",
    "        tridiag[i, i+1] = beta[i+1] \n",
    "        tridiag[i+1, i] = beta[i+1]\n",
    "\n",
    "    return tridiag, V"
   ]
  },
  {
   "cell_type": "code",
   "execution_count": 42,
   "metadata": {},
   "outputs": [],
   "source": [
    "H = torch.tensor([[0.6830, 0.4263, 1.0876],\n",
    "        [0.4263, 0.5262, 0.8746],\n",
    "        [1.0876, 0.8746, 2.0000]])"
   ]
  },
  {
   "cell_type": "code",
   "execution_count": 54,
   "metadata": {},
   "outputs": [],
   "source": [
    "T, V = solve(H, 2)"
   ]
  },
  {
   "cell_type": "code",
   "execution_count": 55,
   "metadata": {},
   "outputs": [
    {
     "data": {
      "text/plain": [
       "0.9438668413799078"
      ]
     },
     "execution_count": 55,
     "metadata": {},
     "output_type": "execute_result"
    }
   ],
   "source": [
    "V[:, 0].dot(V[:, 1])"
   ]
  },
  {
   "cell_type": "code",
   "execution_count": 56,
   "metadata": {},
   "outputs": [
    {
     "data": {
      "text/plain": [
       "array([[0.57735027, 0.44971924],\n",
       "       [0.57735027, 0.37401885],\n",
       "       [0.57735027, 0.81108724]])"
      ]
     },
     "execution_count": 56,
     "metadata": {},
     "output_type": "execute_result"
    }
   ],
   "source": [
    "V"
   ]
  },
  {
   "cell_type": "code",
   "execution_count": 57,
   "metadata": {},
   "outputs": [
    {
     "data": {
      "text/plain": [
       "(array([2.9951546 , 0.04153168, 0.1725138 ], dtype=float32),\n",
       " array([[-0.45050886, -0.6901737 ,  0.56630564],\n",
       "        [-0.36621034, -0.4356409 , -0.8222572 ],\n",
       "        [-0.8142062 ,  0.57782114,  0.05648864]], dtype=float32))"
      ]
     },
     "execution_count": 57,
     "metadata": {},
     "output_type": "execute_result"
    }
   ],
   "source": [
    "np.linalg.eig(H)"
   ]
  },
  {
   "cell_type": "code",
   "execution_count": 47,
   "metadata": {},
   "outputs": [
    {
     "data": {
      "text/plain": [
       "(array([-2.99504798e+00,  2.99504798e+00, -4.29914051e-18]),\n",
       " array([[ 6.65869948e-01,  6.65869948e-01, -3.36503232e-01],\n",
       "        [-7.07106781e-01,  7.07106781e-01,  4.52200731e-17],\n",
       "        [ 2.37943717e-01,  2.37943717e-01,  9.41682311e-01]]))"
      ]
     },
     "execution_count": 47,
     "metadata": {},
     "output_type": "execute_result"
    }
   ],
   "source": [
    "np.linalg.eig(T)"
   ]
  },
  {
   "cell_type": "code",
   "execution_count": 58,
   "metadata": {},
   "outputs": [
    {
     "data": {
      "text/plain": [
       "array([[0.       , 2.8203837],\n",
       "       [2.8203837, 0.       ]])"
      ]
     },
     "execution_count": 58,
     "metadata": {},
     "output_type": "execute_result"
    }
   ],
   "source": [
    "T"
   ]
  },
  {
   "cell_type": "code",
   "execution_count": 61,
   "metadata": {},
   "outputs": [],
   "source": [
    "w, v = np.linalg.eig(T)"
   ]
  },
  {
   "cell_type": "code",
   "execution_count": 62,
   "metadata": {},
   "outputs": [
    {
     "data": {
      "text/plain": [
       "array([ 2.8203837, -2.8203837])"
      ]
     },
     "execution_count": 62,
     "metadata": {},
     "output_type": "execute_result"
    }
   ],
   "source": [
    "w"
   ]
  },
  {
   "cell_type": "code",
   "execution_count": 63,
   "metadata": {},
   "outputs": [
    {
     "data": {
      "text/plain": [
       "array([[ 0.70710678, -0.70710678],\n",
       "       [ 0.70710678,  0.70710678]])"
      ]
     },
     "execution_count": 63,
     "metadata": {},
     "output_type": "execute_result"
    }
   ],
   "source": [
    "v"
   ]
  },
  {
   "cell_type": "code",
   "execution_count": 21,
   "metadata": {},
   "outputs": [
    {
     "data": {
      "text/plain": [
       "tensor([[-13263.8984,   2268.6606,   2745.7505,   6112.6572,  -5364.9922],\n",
       "        [  2268.6604,   -387.8971,   -469.6662,  -1045.4684,    917.5088],\n",
       "        [  2745.7505,   -469.6662,   -568.3350,  -1265.3640,   1110.5846],\n",
       "        [  6112.6572,  -1045.4684,  -1265.3640,  -2816.9634,   2472.3718],\n",
       "        [ -5364.9922,    917.5088,   1110.5846,   2472.3718,  -2169.8423]])"
      ]
     },
     "execution_count": 21,
     "metadata": {},
     "output_type": "execute_result"
    }
   ],
   "source": [
    "v.matmul(torch.diag(w[:, 0])).matmul(v.transpose(0, 1))"
   ]
  },
  {
   "cell_type": "code",
   "execution_count": 22,
   "metadata": {},
   "outputs": [
    {
     "data": {
      "text/plain": [
       "tensor([[ 0.8310, -0.7659, -0.8550,  0.5809,  0.4943],\n",
       "        [-0.1421,  0.2081,  0.2421,  0.4221,  0.5113],\n",
       "        [-0.1720,  0.2601,  0.5437, -0.0197, -0.6229],\n",
       "        [-0.3830,  0.4447, -0.5299,  0.1087, -0.2864],\n",
       "        [ 0.3361, -0.3282, -0.1576, -0.6428,  0.1524]])"
      ]
     },
     "execution_count": 22,
     "metadata": {},
     "output_type": "execute_result"
    }
   ],
   "source": [
    "T.matmul(v).matmul(torch.diag(1/w[:, 0]))"
   ]
  }
 ],
 "metadata": {
  "kernelspec": {
   "display_name": "Python [conda env:anaconda3]",
   "language": "python",
   "name": "conda-env-anaconda3-py"
  },
  "language_info": {
   "codemirror_mode": {
    "name": "ipython",
    "version": 3
   },
   "file_extension": ".py",
   "mimetype": "text/x-python",
   "name": "python",
   "nbconvert_exporter": "python",
   "pygments_lexer": "ipython3",
   "version": "3.5.4"
  }
 },
 "nbformat": 4,
 "nbformat_minor": 2
}
